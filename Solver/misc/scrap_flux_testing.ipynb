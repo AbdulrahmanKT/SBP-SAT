{
 "cells": [
  {
   "cell_type": "code",
   "execution_count": 2,
   "id": "cdcd23b9",
   "metadata": {},
   "outputs": [
    {
     "ename": "ModuleNotFoundError",
     "evalue": "No module named 'Shafaq'",
     "output_type": "error",
     "traceback": [
      "\u001b[0;31m---------------------------------------------------------------------------\u001b[0m",
      "\u001b[0;31mModuleNotFoundError\u001b[0m                       Traceback (most recent call last)",
      "Cell \u001b[0;32mIn[2], line 2\u001b[0m\n\u001b[1;32m      1\u001b[0m \u001b[38;5;28;01mimport\u001b[39;00m\u001b[38;5;250m \u001b[39m\u001b[38;5;21;01mnumpy\u001b[39;00m\u001b[38;5;250m \u001b[39m\u001b[38;5;28;01mas\u001b[39;00m\u001b[38;5;250m \u001b[39m\u001b[38;5;21;01mnp\u001b[39;00m \n\u001b[0;32m----> 2\u001b[0m \u001b[38;5;28;01mimport\u001b[39;00m\u001b[38;5;250m \u001b[39m\u001b[38;5;21;01mShafaq\u001b[39;00m\u001b[38;5;250m \u001b[39m\u001b[38;5;28;01mas\u001b[39;00m\u001b[38;5;250m \u001b[39m\u001b[38;5;21;01msr\u001b[39;00m \n",
      "\u001b[0;31mModuleNotFoundError\u001b[0m: No module named 'Shafaq'"
     ]
    }
   ],
   "source": [
    "import numpy as np \n",
    "import Shafaq as sr "
   ]
  },
  {
   "cell_type": "code",
   "execution_count": 2,
   "id": "b787b60e",
   "metadata": {},
   "outputs": [
    {
     "name": "stdout",
     "output_type": "stream",
     "text": [
      "KERNEL executable: /home/Taherak/Venvs/cfd/bin/python\n",
      "site-packages dirs:\n",
      "['/home/Taherak/Venvs/cfd/lib/python3.13/site-packages',\n",
      " '/home/Taherak/Venvs/cfd/local/lib/python3.13/dist-packages',\n",
      " '/home/Taherak/Venvs/cfd/lib/python3/dist-packages',\n",
      " '/home/Taherak/Venvs/cfd/lib/python3.13/dist-packages']\n"
     ]
    }
   ],
   "source": [
    "import sys, site, json, pprint, platform\n",
    "print(\"KERNEL executable:\", sys.executable)\n",
    "print(\"site-packages dirs:\")\n",
    "pprint.pprint(site.getsitepackages())"
   ]
  },
  {
   "cell_type": "code",
   "execution_count": 3,
   "id": "4c4fe3d4",
   "metadata": {},
   "outputs": [
    {
     "ename": "SyntaxError",
     "evalue": "invalid syntax (219687746.py, line 3)",
     "output_type": "error",
     "traceback": [
      "\u001b[0;36m  Cell \u001b[0;32mIn[3], line 3\u001b[0;36m\u001b[0m\n\u001b[0;31m    python -m pip list | grep -i shafaq\u001b[0m\n\u001b[0m              ^\u001b[0m\n\u001b[0;31mSyntaxError\u001b[0m\u001b[0;31m:\u001b[0m invalid syntax\n"
     ]
    }
   ],
   "source": [
    "# activate the environment where you ran  pip install -e .\n",
    "source /path/to/venv/bin/activate          # or the Windows variant\n",
    "python -m pip list | grep -i shafaq\n",
    "python - <<'PY'\n",
    "import sys, site, shafaq\n",
    "print(\"TERMINAL executable:\", sys.executable)\n",
    "print(\"shafaq version:\", shafaq.__version__)\n",
    "PY"
   ]
  },
  {
   "cell_type": "code",
   "execution_count": 1,
   "id": "006c1b13",
   "metadata": {},
   "outputs": [
    {
     "ename": "NameError",
     "evalue": "name 'np' is not defined",
     "output_type": "error",
     "traceback": [
      "\u001b[0;31m---------------------------------------------------------------------------\u001b[0m",
      "\u001b[0;31mNameError\u001b[0m                                 Traceback (most recent call last)",
      "Cell \u001b[0;32mIn[1], line 2\u001b[0m\n\u001b[1;32m      1\u001b[0m n \u001b[38;5;241m=\u001b[39m \u001b[38;5;241m5\u001b[39m \n\u001b[0;32m----> 2\u001b[0m u \u001b[38;5;241m=\u001b[39m \u001b[43mnp\u001b[49m\u001b[38;5;241m.\u001b[39mones(n\u001b[38;5;241m+\u001b[39m\u001b[38;5;241m1\u001b[39m)\n\u001b[1;32m      3\u001b[0m flux \u001b[38;5;241m=\u001b[39m sr\u001b[38;5;241m.\u001b[39mAdvectiveFlux(a\u001b[38;5;241m=\u001b[39m\u001b[38;5;241m0.5\u001b[39m)\n",
      "\u001b[0;31mNameError\u001b[0m: name 'np' is not defined"
     ]
    }
   ],
   "source": [
    "n = 5 \n",
    "u = np.ones(n+1)\n",
    "flux = sr.AdvectiveFlux(a=0.5)"
   ]
  }
 ],
 "metadata": {
  "kernelspec": {
   "display_name": "cfd",
   "language": "python",
   "name": "python3"
  },
  "language_info": {
   "codemirror_mode": {
    "name": "ipython",
    "version": 3
   },
   "file_extension": ".py",
   "mimetype": "text/x-python",
   "name": "python",
   "nbconvert_exporter": "python",
   "pygments_lexer": "ipython3",
   "version": "3.13.5"
  }
 },
 "nbformat": 4,
 "nbformat_minor": 5
}
