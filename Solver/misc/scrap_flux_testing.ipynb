{
 "cells": [
  {
   "cell_type": "code",
   "execution_count": 1,
   "id": "cdcd23b9",
   "metadata": {},
   "outputs": [],
   "source": [
    "import numpy as np \n",
    "import SBP as sb \n",
    "from SBP.fluxes import * "
   ]
  },
  {
   "cell_type": "code",
   "execution_count": 4,
   "id": "006c1b13",
   "metadata": {},
   "outputs": [
    {
     "data": {
      "text/plain": [
       "array([[2., 2., 2., 2., 2.],\n",
       "       [2., 2., 2., 2., 2.],\n",
       "       [2., 2., 2., 2., 2.],\n",
       "       [3., 3., 3., 3., 3.],\n",
       "       [3., 3., 3., 3., 3.]])"
      ]
     },
     "execution_count": 4,
     "metadata": {},
     "output_type": "execute_result"
    }
   ],
   "source": [
    "n = 4\n",
    "t = np.array([1, 1, 1, 2, 2])\n",
    "t2 = np.array([1, 1, 1, 1, 1])\n",
    "\n",
    "Q = sb.legendre.sbp_q(n)\n",
    "f_adv_ec(2,t, t2)\n"
   ]
  }
 ],
 "metadata": {
  "kernelspec": {
   "display_name": "cfd",
   "language": "python",
   "name": "python3"
  },
  "language_info": {
   "codemirror_mode": {
    "name": "ipython",
    "version": 3
   },
   "file_extension": ".py",
   "mimetype": "text/x-python",
   "name": "python",
   "nbconvert_exporter": "python",
   "pygments_lexer": "ipython3",
   "version": "3.13.5"
  }
 },
 "nbformat": 4,
 "nbformat_minor": 5
}
