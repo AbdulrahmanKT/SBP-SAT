{
 "cells": [
  {
   "cell_type": "code",
   "execution_count": 34,
   "metadata": {},
   "outputs": [],
   "source": [
    "import SBP as sb \n",
    "import numpy as np \n",
    "import scipy as sp \n",
    "import matplotlib.pyplot as plt \n",
    "from SBP.legendre import lgl, lagrange\n"
   ]
  },
  {
   "cell_type": "code",
   "execution_count": 6,
   "metadata": {},
   "outputs": [],
   "source": [
    "class Element1D:\n",
    "    \"\"\"\n",
    "    1D element for nodal DG / SBP methods.\n",
    "    Uses Legendre-Gauss-Lobatto (LGL) nodes and maps reference [-1,1] to physical [left,right].\n",
    "    \"\"\"\n",
    "    def __init__(self, index: int, left: float, right: float, n: int):\n",
    "        self.index = index\n",
    "        self.left = left\n",
    "        self.right = right\n",
    "        self.n = n\n",
    "        # reference nodes xi and weights (we only need xi)\n",
    "        xi, _ = lgl(n)\n",
    "        self.xi = np.array(xi).flatten()\n",
    "        # physical coordinates\n",
    "        self.x = ( (self.right - self.left)/2 ) * self.xi + (self.right + self.left)/2\n",
    "        # Jacobian for mapping\n",
    "        self.jacobian = (self.right - self.left)/2\n",
    "        # placeholder for solution values at nodes\n",
    "        self.solution = np.zeros(n+1)\n",
    "\n",
    "    def set_solution(self, sol: np.ndarray):\n",
    "        \"\"\"Assign solution values at the element's nodes.\"\"\"\n",
    "        assert sol.shape == (self.n+1,)\n",
    "        self.solution = sol.copy()\n",
    "\n",
    "    def map_to_reference(self, x_phys: float) -> float:\n",
    "        \"\"\"Map a physical coordinate back to reference xi in [-1,1].\"\"\"\n",
    "        return (2*x_phys - (self.left + self.right)) / (self.right - self.left)\n",
    "\n",
    "    def basis_at(self, x_phys: float) -> np.ndarray:\n",
    "        \"\"\"Evaluate all Lagrange basis polynomials at a physical point.\"\"\"\n",
    "        xi = self.map_to_reference(x_phys)\n",
    "        return lagrange(self.n, xi)\n",
    "\n",
    "\n",
    "class Mesh1D:\n",
    "    \"\"\"\n",
    "    1D mesh composed of equally spaced Element1D objects.\n",
    "    \"\"\"\n",
    "    def __init__(self, x_min: float, x_max: float, nex: int, n: int):\n",
    "        self.x_min = x_min\n",
    "        self.x_max = x_max\n",
    "        self.nex = nex\n",
    "        self.n = n\n",
    "        self.elements = []\n",
    "        self.generate_mesh()\n",
    "\n",
    "    def generate_mesh(self):\n",
    "        \"\"\"Partition [x_min,x_max] into nex elements and create Element1D instances.\"\"\"\n",
    "        dx = (self.x_max - self.x_min) / self.nex\n",
    "        for i in range(self.nex):\n",
    "            left = self.x_min + i*dx\n",
    "            right = left + dx\n",
    "            elem = Element1D(i, left, right, self.n)\n",
    "            self.elements.append(elem)\n",
    "\n",
    "    def get_element(self, idx: int) -> Element1D:\n",
    "        \"\"\"Retrieve element by index.\"\"\"\n",
    "        return self.elements[idx]\n",
    "\n",
    "    def set_solutions(self, U: np.ndarray):\n",
    "        \"\"\"Assign solution array U of shape (nex, n+1) to all elements.\"\"\"\n",
    "        assert U.shape == (self.nex, self.n+1)\n",
    "        for i, elem in enumerate(self.elements):\n",
    "            elem.set_solution(U[i])\n",
    "\n",
    "    def global_coordinates(self) -> np.ndarray:\n",
    "        \"\"\"Return sorted unique global node coordinates.\"\"\"\n",
    "        coords = []\n",
    "        for elem in self.elements:\n",
    "            coords.extend(elem.x.tolist())\n",
    "        return np.unique(coords)\n",
    "\n",
    "    def plot_mesh(self):\n",
    "        \"\"\"Simple plot of the mesh nodes and element edges.\"\"\"\n",
    "        import matplotlib.pyplot as plt\n",
    "        X = self.global_coordinates()\n",
    "        Y = np.zeros_like(X)\n",
    "        plt.figure(figsize=(8,1))\n",
    "        plt.plot(X, Y, 'o')\n",
    "        for elem in self.elements:\n",
    "            plt.plot(elem.x, np.zeros_like(elem.x), '-')\n",
    "        plt.yticks([])\n",
    "        plt.title(f\"1D Mesh: {self.nex} elements, degree {self.n}\")\n",
    "        plt.xlabel(\"x\")\n",
    "        plt.show()"
   ]
  },
  {
   "cell_type": "code",
   "execution_count": 10,
   "metadata": {},
   "outputs": [
    {
     "data": {
      "text/plain": [
       "5.0"
      ]
     },
     "execution_count": 10,
     "metadata": {},
     "output_type": "execute_result"
    }
   ],
   "source": [
    "e = Element1D(1, 0, 10, 5)\n",
    "e.jacobian"
   ]
  },
  {
   "cell_type": "code",
   "execution_count": 35,
   "metadata": {},
   "outputs": [
    {
     "data": {
      "text/plain": [
       "array([[-7.50000000e+00,  1.01414159e+01, -4.03618727e+00,\n",
       "         2.24468465e+00, -1.34991331e+00,  5.00000000e-01],\n",
       "       [-1.78636495e+00,  1.53765889e-14,  2.52342678e+00,\n",
       "        -1.15282816e+00,  6.53547507e-01, -2.37781178e-01],\n",
       "       [ 4.84951048e-01, -1.72125695e+00, -3.38618023e-15,\n",
       "         1.75296197e+00, -7.86356672e-01,  2.69700611e-01],\n",
       "       [-2.69700611e-01,  7.86356672e-01, -1.75296197e+00,\n",
       "         4.77395901e-15,  1.72125695e+00, -4.84951048e-01],\n",
       "       [ 2.37781178e-01, -6.53547507e-01,  1.15282816e+00,\n",
       "        -2.52342678e+00, -2.75335310e-14,  1.78636495e+00],\n",
       "       [-5.00000000e-01,  1.34991331e+00, -2.24468465e+00,\n",
       "         4.03618727e+00, -1.01414159e+01,  7.50000000e+00]])"
      ]
     },
     "execution_count": 35,
     "metadata": {},
     "output_type": "execute_result"
    }
   ],
   "source": [
    "d1 = sb.sbp_d(5)\n",
    "p1 = sb.sbp_p(5)\n",
    "d1\n"
   ]
  },
  {
   "cell_type": "code",
   "execution_count": 18,
   "metadata": {},
   "outputs": [
    {
     "name": "stdout",
     "output_type": "stream",
     "text": [
      "The matrix P \n",
      " [[0.06666667 0.         0.         0.         0.         0.        ]\n",
      " [0.         0.37847496 0.         0.         0.         0.        ]\n",
      " [0.         0.         0.55485838 0.         0.         0.        ]\n",
      " [0.         0.         0.         0.55485838 0.         0.        ]\n",
      " [0.         0.         0.         0.         0.37847496 0.        ]\n",
      " [0.         0.         0.         0.         0.         0.06666667]]\n",
      "The matrix Q from P \n",
      " [[-5.00000000e-01  3.83827195e+00 -2.23951232e+00  1.24548208e+00\n",
      "  -5.10908383e-01  3.33333333e-02]\n",
      " [-1.19090997e-01  5.81965381e-15  1.40014449e+00 -6.39656361e-01\n",
      "   2.47351364e-01 -1.58520785e-02]\n",
      " [ 3.23300699e-02 -6.51452650e-01 -1.87885046e-15  9.72645632e-01\n",
      "  -2.97616307e-01  1.79800407e-02]\n",
      " [-1.79800407e-02  2.97616307e-01 -9.72645632e-01  2.64887115e-15\n",
      "   6.51452650e-01 -3.23300699e-02]\n",
      " [ 1.58520785e-02 -2.47351364e-01  6.39656361e-01 -1.40014449e+00\n",
      "  -1.04207519e-14  1.19090997e-01]\n",
      " [-3.33333333e-02  5.10908383e-01 -1.24548208e+00  2.23951232e+00\n",
      "  -3.83827195e+00  5.00000000e-01]]\n",
      "The matrix D \n",
      " [[-7.50000000e+00  1.01414159e+01 -4.03618727e+00  2.24468465e+00\n",
      "  -1.34991331e+00  5.00000000e-01]\n",
      " [-1.78636495e+00  1.53765889e-14  2.52342678e+00 -1.15282816e+00\n",
      "   6.53547507e-01 -2.37781178e-01]\n",
      " [ 4.84951048e-01 -1.72125695e+00 -3.38618023e-15  1.75296197e+00\n",
      "  -7.86356672e-01  2.69700611e-01]\n",
      " [-2.69700611e-01  7.86356672e-01 -1.75296197e+00  4.77395901e-15\n",
      "   1.72125695e+00 -4.84951048e-01]\n",
      " [ 2.37781178e-01 -6.53547507e-01  1.15282816e+00 -2.52342678e+00\n",
      "  -2.75335310e-14  1.78636495e+00]\n",
      " [-5.00000000e-01  1.34991331e+00 -2.24468465e+00  4.03618727e+00\n",
      "  -1.01414159e+01  7.50000000e+00]]\n"
     ]
    }
   ],
   "source": [
    "#Matrix P\n",
    "n = 5\n",
    "out = sb.lgl(n)\n",
    "roots = np.zeros(n+1)\n",
    "w = np.zeros(n+1)\n",
    "w[:] = out[1,:]\n",
    "roots[:] = out[0,:]\n",
    "result = np.zeros((n+1,n+1))\n",
    "l1 = np.zeros(n+1)\n",
    "for i in range(n+1):\n",
    "    result = result + (np.outer(sb.lagrange(n,roots[i]),sb.lagrange(n,roots[i])))*w[i]\n",
    "P = -1*result # The negative one stems from the formulation of the code. The points were sorted from right to left, hence the jacobian is negative. \n",
    "print(\"The matrix P \\n\", result)\n",
    "\n",
    "\n",
    "#Matrix Q from P\n",
    "dq = sb.dlagrange(n)\n",
    "result1 = np.zeros_like(result)\n",
    "for i in range(n+1):\n",
    "    result1[:,i] = sb.lagrange(n,roots[i]) @ np.transpose(dq)* w[i]\n",
    "result1 = result1  \n",
    "Q = result1\n",
    "print(\"The matrix Q from P \\n\", Q) \n",
    "\n",
    "# Matrix D \n",
    "D = sb.dlagrange(n)\n",
    "print(\"The matrix D \\n\", D) \n"
   ]
  }
 ],
 "metadata": {
  "kernelspec": {
   "display_name": "cfd",
   "language": "python",
   "name": "python3"
  },
  "language_info": {
   "codemirror_mode": {
    "name": "ipython",
    "version": 3
   },
   "file_extension": ".py",
   "mimetype": "text/x-python",
   "name": "python",
   "nbconvert_exporter": "python",
   "pygments_lexer": "ipython3",
   "version": "3.13.2"
  }
 },
 "nbformat": 4,
 "nbformat_minor": 2
}
