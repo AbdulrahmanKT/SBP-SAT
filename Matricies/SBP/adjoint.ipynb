{
 "cells": [
  {
   "cell_type": "code",
   "execution_count": null,
   "id": "81f992c9",
   "metadata": {},
   "outputs": [],
   "source": [
    "import sympy as sp \n",
    "import Shock\n",
    "from sympy import init_printing\n",
    "init_printing(use_latex='mathjax')\n"
   ]
  },
  {
   "cell_type": "code",
   "execution_count": 15,
   "id": "86e20f74",
   "metadata": {},
   "outputs": [
    {
     "data": {
      "text/latex": [
       "$\\displaystyle - \\frac{\\epsilon \\left(- \\kappa \\left(0.5 \\left(\\sin{\\left(\\frac{\\pi \\left(S - s_{0}\\right)}{2 \\kappa} \\right)} + 1\\right) \\left(\\delta\\left(- S + \\kappa + s_{0}\\right) - \\delta\\left(S + \\kappa - s_{0}\\right)\\right) - \\delta\\left(- S + \\kappa + s_{0}\\right)\\right) - 0.25 \\pi \\left(\\theta\\left(S - \\kappa - s_{0}\\right) - \\theta\\left(S + \\kappa - s_{0}\\right)\\right) \\cos{\\left(\\frac{\\pi \\left(S - s_{0}\\right)}{2 \\kappa} \\right)}\\right)}{\\kappa}$"
      ],
      "text/plain": [
       "   ⎛    ⎛    ⎛   ⎛π⋅(S - s₀)⎞    ⎞                                            \n",
       "-ε⋅⎜- κ⋅⎜0.5⋅⎜sin⎜──────────⎟ + 1⎟⋅(δ(-S + κ + s₀) - δ(S + κ - s₀)) - δ(-S + κ\n",
       "   ⎝    ⎝    ⎝   ⎝   2⋅κ    ⎠    ⎠                                            \n",
       "──────────────────────────────────────────────────────────────────────────────\n",
       "                                                                       κ      \n",
       "\n",
       "      ⎞                                             ⎛π⋅(S - s₀)⎞⎞ \n",
       " + s₀)⎟ - 0.25⋅π⋅(θ(S - κ - s₀) - θ(S + κ - s₀))⋅cos⎜──────────⎟⎟ \n",
       "      ⎠                                             ⎝   2⋅κ    ⎠⎠ \n",
       "──────────────────────────────────────────────────────────────────\n",
       "                                                                  "
      ]
     },
     "execution_count": 15,
     "metadata": {},
     "output_type": "execute_result"
    }
   ],
   "source": [
    "import sympy as sp\n",
    "\n",
    "# Declare symbols\n",
    "S, s0, epsilon, kappa = sp.symbols('S s0 epsilon kappa', real=True)\n",
    "pi = sp.pi\n",
    "\n",
    "# --- Core expressions ---\n",
    "theta = (pi * (S - s0)) / (2 * kappa)\n",
    "# Define Heaviside and DiracDelta windows\n",
    "H = sp.Heaviside\n",
    "D = sp.DiracDelta\n",
    "\n",
    "# Window function: [s0 - kappa, s0 + kappa]\n",
    "window = H(S - s0 + kappa) - H(S - s0 - kappa)\n",
    "\n",
    "# Full mu_K expression in symbolic form\n",
    "mu = epsilon * (\n",
    "    H(S - (s0 + kappa)) + \n",
    "    (1/2)*(1 + sp.sin(theta)) * (H(S - s0 + kappa) - H(S - s0 - kappa))\n",
    ")\n",
    "\n",
    "# --- Derivatives ---\n",
    "# Derivative w.r.t s0\n",
    "dmu_ds0 = sp.diff(mu, s0)\n",
    "\n",
    "# Derivative w.r.t kappa\n",
    "\n",
    "dmu_dkappa = sp.diff(mu, kappa)\n",
    "\n",
    "# Derivative w.r.t epsilon\n",
    "dmu_depsilon = sp.diff(mu, epsilon)\n",
    "\n",
    "sp.together(dmu_ds0.simplify())\n",
    "\n",
    "\n",
    "\n"
   ]
  },
  {
   "cell_type": "code",
   "execution_count": 12,
   "id": "4532329c",
   "metadata": {},
   "outputs": [
    {
     "data": {
      "text/latex": [
       "$\\displaystyle \\frac{\\epsilon \\left(\\kappa^{2} \\cdot \\left(0.5 \\left(\\sin{\\left(\\frac{\\pi \\left(S - s_{0}\\right)}{2 \\kappa} \\right)} + 1\\right) \\left(\\delta\\left(- S + \\kappa + s_{0}\\right) + \\delta\\left(S + \\kappa - s_{0}\\right)\\right) - \\delta\\left(- S + \\kappa + s_{0}\\right)\\right) + 0.25 \\pi \\left(S - s_{0}\\right) \\left(\\theta\\left(S - \\kappa - s_{0}\\right) - \\theta\\left(S + \\kappa - s_{0}\\right)\\right) \\cos{\\left(\\frac{\\pi \\left(S - s_{0}\\right)}{2 \\kappa} \\right)}\\right)}{\\kappa^{2}}$"
      ],
      "text/plain": [
       "  ⎛ 2 ⎛    ⎛   ⎛π⋅(S - s₀)⎞    ⎞                                              \n",
       "ε⋅⎜κ ⋅⎜0.5⋅⎜sin⎜──────────⎟ + 1⎟⋅(δ(-S + κ + s₀) + δ(S + κ - s₀)) - δ(-S + κ +\n",
       "  ⎝   ⎝    ⎝   ⎝   2⋅κ    ⎠    ⎠                                              \n",
       "──────────────────────────────────────────────────────────────────────────────\n",
       "                                                                           2  \n",
       "                                                                          κ   \n",
       "\n",
       "    ⎞                                                      ⎛π⋅(S - s₀)⎞⎞\n",
       " s₀)⎟ + 0.25⋅π⋅(S - s₀)⋅(θ(S - κ - s₀) - θ(S + κ - s₀))⋅cos⎜──────────⎟⎟\n",
       "    ⎠                                                      ⎝   2⋅κ    ⎠⎠\n",
       "────────────────────────────────────────────────────────────────────────\n",
       "                                                                        \n",
       "                                                                        "
      ]
     },
     "execution_count": 12,
     "metadata": {},
     "output_type": "execute_result"
    }
   ],
   "source": [
    "\n",
    "dmu_dkappa.simplify()\n",
    "\n"
   ]
  },
  {
   "cell_type": "code",
   "execution_count": 13,
   "id": "646160b5",
   "metadata": {},
   "outputs": [
    {
     "data": {
      "text/latex": [
       "$\\displaystyle 0.5 \\left(\\sin{\\left(\\frac{\\pi \\left(S - s_{0}\\right)}{2 \\kappa} \\right)} + 1\\right) \\left(- \\theta\\left(S - \\kappa - s_{0}\\right) + \\theta\\left(S + \\kappa - s_{0}\\right)\\right) + \\theta\\left(S - \\kappa - s_{0}\\right)$"
      ],
      "text/plain": [
       "    ⎛   ⎛π⋅(S - s₀)⎞    ⎞                                                 \n",
       "0.5⋅⎜sin⎜──────────⎟ + 1⎟⋅(-θ(S - κ - s₀) + θ(S + κ - s₀)) + θ(S - κ - s₀)\n",
       "    ⎝   ⎝   2⋅κ    ⎠    ⎠                                                 "
      ]
     },
     "execution_count": 13,
     "metadata": {},
     "output_type": "execute_result"
    }
   ],
   "source": [
    "dmu_depsilon.simplify()"
   ]
  },
  {
   "cell_type": "code",
   "execution_count": 19,
   "id": "e0f703ed",
   "metadata": {},
   "outputs": [
    {
     "data": {
      "text/plain": [
       "(np.float64(-0.2394705789844852), np.float64(0.1))"
      ]
     },
     "execution_count": 19,
     "metadata": {},
     "output_type": "execute_result"
    }
   ],
   "source": [
    "import SBP as sb \n",
    "from SBP.legendre import * \n",
    "import SBP.Shock as Shock \n",
    "\n",
    "\n",
    "\n",
    "\n",
    "def gaussian(x, mu=3, sigma=0.5):\n",
    "    return 0.5*np.exp(-((x - mu)**2) / (2 * sigma**2))\n",
    "\n",
    "\n",
    "\n",
    "\n",
    "\n",
    "\n",
    "\n",
    "\n",
    "\n",
    "\n",
    "n = 3 \n",
    "P = sbp_p(n)\n",
    "D = sbp_d(n)\n",
    "Q = sbp_q(n)\n",
    "xi , w = lgl(n)\n",
    "\n",
    "\n",
    "\n",
    "\n",
    "\n",
    "\n",
    "u = gaussian(xi)\n",
    "V = np.polynomial.legendre.legvander(xi, n)\n",
    "a = Shock.nodal_to_modal(u=u, w=w, V=V)\n",
    "S = Shock.perrson_sensor(a)\n",
    "av = Shock.av(S,s0=-2)\n",
    "S, av "
   ]
  }
 ],
 "metadata": {
  "kernelspec": {
   "display_name": "cfd",
   "language": "python",
   "name": "python3"
  },
  "language_info": {
   "codemirror_mode": {
    "name": "ipython",
    "version": 3
   },
   "file_extension": ".py",
   "mimetype": "text/x-python",
   "name": "python",
   "nbconvert_exporter": "python",
   "pygments_lexer": "ipython3",
   "version": "3.13.5"
  }
 },
 "nbformat": 4,
 "nbformat_minor": 5
}
