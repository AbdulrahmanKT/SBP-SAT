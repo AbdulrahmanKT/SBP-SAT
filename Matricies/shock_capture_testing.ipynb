{
 "cells": [
  {
   "cell_type": "code",
   "execution_count": 2,
   "id": "bebf8fb1",
   "metadata": {},
   "outputs": [],
   "source": [
    "import numpy as np \n",
    "import matplotlib.pyplot as plt \n",
    "import SBP as sb \n",
    "from numpy.polynomial.legendre import legvander\n",
    "from SBP.Shock import * "
   ]
  },
  {
   "cell_type": "code",
   "execution_count": null,
   "id": "183f1da2",
   "metadata": {},
   "outputs": [],
   "source": []
  },
  {
   "cell_type": "code",
   "execution_count": 5,
   "id": "5c8ffe0f",
   "metadata": {},
   "outputs": [
    {
     "data": {
      "text/plain": [
       "array(0.1)"
      ]
     },
     "execution_count": 5,
     "metadata": {},
     "output_type": "execute_result"
    }
   ],
   "source": [
    "n = 3 \n",
    "xi , w = sb.lgl(n)\n",
    "P = sb.sbp_p(n)\n",
    "D = sb.sbp_d(n)\n",
    "Q = sb.sbp_q(n)\n",
    "V = np.polynomial.legendre.legvander(xi, n)\n",
    "\n",
    "a_smooth = np.array([0.001, 0.001, 0.001, 0])\n",
    "a_shock  = np.array([1.0, 0.2, 0.05, 0.8])\n",
    "\n",
    "\n",
    "perrson_sensor(a_smooth), perrson_sensor(a_shock) , 1e-30 - 2e-30\n",
    "av(a_shock)"
   ]
  }
 ],
 "metadata": {
  "kernelspec": {
   "display_name": "cfd",
   "language": "python",
   "name": "python3"
  },
  "language_info": {
   "codemirror_mode": {
    "name": "ipython",
    "version": 3
   },
   "file_extension": ".py",
   "mimetype": "text/x-python",
   "name": "python",
   "nbconvert_exporter": "python",
   "pygments_lexer": "ipython3",
   "version": "3.13.3"
  }
 },
 "nbformat": 4,
 "nbformat_minor": 5
}
