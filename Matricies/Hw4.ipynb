{
 "cells": [
  {
   "cell_type": "code",
   "execution_count": 1,
   "metadata": {},
   "outputs": [],
   "source": [
    "import numpy as np \n",
    "import matplotlib.pyplot as plt \n",
    "import scipy as sp \n",
    "import sympy as sym \n",
    "import SBP as sb \n"
   ]
  },
  {
   "cell_type": "code",
   "execution_count": 61,
   "metadata": {},
   "outputs": [
    {
     "name": "stdout",
     "output_type": "stream",
     "text": [
      "[[-10.]\n",
      " [-10.]\n",
      " [-10.]]\n",
      "[[-10.]\n",
      " [  0.]\n",
      " [ 10.]]\n"
     ]
    }
   ],
   "source": [
    "#### The goal of this notebook is to create a basic structurred mesh generator for my SBP-Solver\n",
    "\n",
    "nex, ney = 1, 3 # Number of elements in every dimesion\n",
    "x_min, x_max = -10, 10\n",
    "y_min, y_max = -10, 10\n",
    "j = (x_max - x_min)/2\n",
    "x = np.linspace(x_min, x_max, nex)\n",
    "y = np.linspace(y_min, y_max, ney)\n",
    "X = np.zeros((5,5))\n",
    "X, Y = np.meshgrid(x,y)\n",
    "print(X)\n",
    "print(Y)"
   ]
  },
  {
   "cell_type": "markdown",
   "metadata": {},
   "source": [
    "### Element Class\n",
    "#### Overview\n",
    "In order to create the mesh, I will create a class called Element that defines the attributes and methods of that class. \n",
    "The Element class has the following attributes: \n",
    " - The Index Number of the element \n",
    " - The boundary points of that element (Maybe define the lgl meshgrid before hand, and simply multiply it by the jacobian)\n",
    " - The lgl points to define the meshgrid \n",
    " - Solution points (set to None for now)\n",
    "\n",
    "\n",
    "The class has the following methods: \n",
    " - A method that prints the solution (coefficients)\n",
    " - A method that calculates the Jacobian of that element with respect to the reference element\n",
    "\n",
    "#### The Jacobian\n",
    "The reference element is a uniform element that is bounded by $$x\\in\\{-1,1\\} \\text{ } y\\in\\{-1,1\\}.$$ \n",
    "\n",
    "Now, since the real physical bounds are different, there is a need for a one-to-one mapping between the physical space and the computational space. But, we restrict the physical element to be non-curved and non-skew elements.  \n",
    "The simplest mapping is done as follows: \n",
    "\n",
    "\\begin{align*}\n",
    "x = \\frac{x_{max}-x_{min}}{2} \\cdot \\zeta + \\frac{x_{max}+x_{min}}{2} \\\\\n",
    "y = \\frac{y_{max}-y_{min}}{2} \\cdot \\eta + \\frac{y_{max}+y_{min}}{2}\n",
    "\\end{align*}\n",
    "where $\\zeta \\text{ } \\& \\text{ } x $ are the computational and physical dimensions respectivly. \n",
    "Now the Jacobian would lool like: \n",
    "\n",
    "\\begin{align*}\n",
    "\\textbf{x} = \\begin{bmatrix} x \\\\ u\\end{bmatrix} = \\begin{bmatrix}\\frac{x_{max}-x_{min}}{2} \\cdot \\zeta + \\frac{x_{max}+x_{min}}{2} \\\\ \\frac{y_{max}-y_{min}}{2} \\cdot \\eta + \\frac{y_{max}+y_{min}}{2}\\end{bmatrix} \\\\ \n",
    "\\partial_{\\zeta}  \\textbf{x} = \\begin{bmatrix} S_x & 0 \\\\ 0 & S_y \\end{bmatrix} \\begin{bmatrix} \\partial \\zeta \\\\ \\partial \\eta \\end{bmatrix} \\\\ \n",
    "\\begin{bmatrix} \\partial \\zeta \\\\ \\partial \\eta \\end{bmatrix} = \\begin{bmatrix} \\frac{1}{S_x} & 0 \\\\ 0 & \\frac{1}{S_y} \\end{bmatrix} \\begin{bmatrix} \\partial x \\\\ \\partial y \\end{bmatrix}\n",
    "\\end{align*}\n",
    "\n"
   ]
  },
  {
   "cell_type": "code",
   "execution_count": 106,
   "metadata": {},
   "outputs": [],
   "source": [
    "class Element: \n",
    "    def __init__(self, index, time , solution, left_bound, right_bound, top_bound, bottom_bound, lgl):\n",
    "        \"\"\"\n",
    "        This class defines a single element. \n",
    "        - index: ID of the element \n",
    "        - time: Time step\n",
    "        - solution: solution values \n",
    "        - bounds: the physical boundaries of the element\n",
    "        - lgl: is the set of the lgl points that were used to define the SBP operators\n",
    "        \"\"\"\n",
    "        \n",
    "        \n",
    "        self.index = index\n",
    "        self.time = time\n",
    "        self.solution = solution\n",
    "        self.left_bound = left_bound\n",
    "        self.right_bound = right_bound\n",
    "        self.top_bound = top_bound\n",
    "        self.bottom_bound = bottom_bound\n",
    "        self.lgl = lgl \n",
    "        \n",
    "        \n",
    "        \n",
    "    def print_computational_points(self): \n",
    "        n = len(self.lgl)\n",
    "        X, Y = np.meshgrid(self.lgl,self.lgl)\n",
    "        return X, Y\n",
    "     \n",
    "    def print_box(self):\n",
    "        t = np.array([[self.left_bound, self.right_bound],[self.top_bound,self.top_bound]])\n",
    "        b = np.array([[self.left_bound, self.right_bound],[self.bottom_bound,self.bottom_bound]])\n",
    "        l = np.array([ [self.left_bound, self.left_bound], [self.bottom_bound,self.top_bound]])\n",
    "        r = np.array([[self.right_bound, self.right_bound], [self.bottom_bound,self.top_bound]])\n",
    "        return plt.plot(t[0],t[1]),plt.plot(b[0],b[1]),  plt.plot(l[0],l[1]), plt.plot(r[0],r[1])\n",
    "    \n",
    "    def print_box_with_nodes(self):\n",
    "        t = np.array([[self.left_bound, self.right_bound],[self.top_bound,self.top_bound]])\n",
    "        b = np.array([[self.left_bound, self.right_bound],[self.bottom_bound,self.bottom_bound]])\n",
    "        l = np.array([ [self.left_bound, self.left_bound], [self.bottom_bound,self.top_bound]])\n",
    "        r = np.array([[self.right_bound, self.right_bound], [self.bottom_bound,self.top_bound]])\n",
    "        x     = ((self.right_bound-self.left_bound)/2)*self.lgl + ((self.right_bound+self.left_bound)/2)*np.ones_like(self.lgl) \n",
    "        y     = ((self.top_bound-self.bottom_bound)/2)*self.lgl + ((self.top_bound+self.bottom_bound)/2)*np.ones_like(self.lgl) \n",
    "        X, Y  = np.meshgrid(x, y)\n",
    "        return plt.plot(t[0],t[1]),plt.plot(b[0],b[1]),  plt.plot(l[0],l[1]), plt.plot(r[0],r[1]), plt.plot(X, Y, \"+\")\n",
    "        \n",
    "        \n",
    "            \n",
    "    def print_nodes_physical(self):\n",
    "        x     = ((self.right_bound-self.left_bound)/2)*self.lgl + ((self.right_bound+self.left_bound)/2)*np.ones_like(self.lgl) \n",
    "        y     = ((self.top_bound-self.bottom_bound)/2)*self.lgl + ((self.top_bound+self.bottom_bound)/2)*np.ones_like(self.lgl) \n",
    "        X, Y  = np.meshgrid(x, y)\n",
    "        return X, Y\n",
    "    \n",
    "    def Jacob(self): \n",
    "        A_physical = (self.right_bound - self.left_bound)*(self.top_bound - self.bottom_bound)\n",
    "        S_x = (self.right_bound - self.left_bound)/2\n",
    "        S_y = (self.top_bound - self.bottom_bound)/2  \n",
    "        inv_jacobian = (S_x*S_y)**(-1)\n",
    "        return inv_jacobian, A_physical\n",
    "    \n",
    "        "
   ]
  },
  {
   "cell_type": "code",
   "execution_count": 107,
   "metadata": {},
   "outputs": [
    {
     "data": {
      "image/png": "[encoded data removed]",
      "text/plain": [
       "<Figure size 640x480 with 1 Axes>"
      ]
     },
     "metadata": {},
     "output_type": "display_data"
    }
   ],
   "source": [
    "\n",
    "lgl = np.zeros(6)\n",
    "lgl[:]= sb.lgl(5)[0,:]\n",
    "e1 = Element(1, 0, 0, 0, 2, 10, 0, lgl)\n",
    "X, Y = e1.print_computational_points()\n",
    "H, G = e1.print_nodes_physical()\n",
    "\n",
    "e1.print_box_with_nodes()\n",
    "plt.show()"
   ]
  },
  {
   "cell_type": "code",
   "execution_count": null,
   "metadata": {},
   "outputs": [],
   "source": [
    "### Creating the class for the mesh element\n",
    "\n",
    "class Mesh:\n",
    "    def __init__(self, x_min, x_max,  y_max, y_min , nex, ney, n):\n",
    "        lgl = np.zeros(n+1)\n",
    "        lgl[:]= sb.lgl(n)[0,:]\n",
    "        self.lgl     = lgl\n",
    "        self.x_min   = x_min\n",
    "        self.x_max   = x_max\n",
    "        self.y_min   = y_min\n",
    "        self.y_max   = y_max\n",
    "        self.nex     = nex\n",
    "        self.ney     = ney\n",
    "        self.element = []\n",
    "        self.generate_mesh()\n",
    "        self.t = None\n",
    "        self.solution = None\n",
    "    def generate_mesh(self):\n",
    "        \"\"\"\n",
    "        Creates elements and assigns them to the mesh.\n",
    "        \"\"\"\n",
    "        dx = (self.x_max - self.x_min) / self.nex\n",
    "        dy = (self.y_max - self.y_min) / self.ney\n",
    "        index = 0\n",
    "        \n",
    "        for i in range(self.nex):\n",
    "            for j in range(self.ney):\n",
    "                left_bound = self.x_min + i * dx\n",
    "                right_bound = self.x_min + (i+1) * dx\n",
    "                bottom_bound = self.y_min + j * dy\n",
    "                top_bound = self.y_min + (j+1) * dy\n",
    "\n",
    "                element = Element(index, index, self.t , solution, left_bound, right_bound, top_bound, bottom_bound, lgl)\n",
    "                self.elements.append(element)\n",
    "                index += 1\n",
    "\n",
    "    def get_element(self, i, j):\n",
    "        \"\"\"\n",
    "        Retrieves an element by its (i, j) position in the grid.\n",
    "        \"\"\"\n",
    "        index = i * self.ney + j\n",
    "        return self.elements[index]\n",
    "    "
   ]
  },
  {
   "cell_type": "code",
   "execution_count": 124,
   "metadata": {},
   "outputs": [
    {
     "ename": "TypeError",
     "evalue": "Element.__init__() missing 2 required positional arguments: 'bottom_bound' and 'lgl'",
     "output_type": "error",
     "traceback": [
      "\u001b[0;31m---------------------------------------------------------------------------\u001b[0m",
      "\u001b[0;31mTypeError\u001b[0m                                 Traceback (most recent call last)",
      "Input \u001b[0;32mIn [124]\u001b[0m, in \u001b[0;36m<cell line: 1>\u001b[0;34m()\u001b[0m\n\u001b[0;32m----> 1\u001b[0m m \u001b[38;5;241m=\u001b[39m \u001b[43mMesh\u001b[49m\u001b[43m(\u001b[49m\u001b[43mx_min\u001b[49m\u001b[43m,\u001b[49m\u001b[43m \u001b[49m\u001b[43mx_max\u001b[49m\u001b[43m,\u001b[49m\u001b[43m  \u001b[49m\u001b[43my_max\u001b[49m\u001b[43m,\u001b[49m\u001b[43my_min\u001b[49m\u001b[43m \u001b[49m\u001b[43m,\u001b[49m\u001b[43m \u001b[49m\u001b[43mnex\u001b[49m\u001b[43m,\u001b[49m\u001b[43m \u001b[49m\u001b[43mney\u001b[49m\u001b[43m,\u001b[49m\u001b[38;5;241;43m5\u001b[39;49m\u001b[43m)\u001b[49m\n\u001b[1;32m      2\u001b[0m m\u001b[38;5;241m.\u001b[39mgenerate_mesh\n",
      "Input \u001b[0;32mIn [122]\u001b[0m, in \u001b[0;36mMesh.__init__\u001b[0;34m(self, x_min, x_max, y_max, y_min, nex, ney, n)\u001b[0m\n\u001b[1;32m     13\u001b[0m \u001b[38;5;28mself\u001b[39m\u001b[38;5;241m.\u001b[39mney     \u001b[38;5;241m=\u001b[39m ney\n\u001b[1;32m     14\u001b[0m \u001b[38;5;28mself\u001b[39m\u001b[38;5;241m.\u001b[39melement \u001b[38;5;241m=\u001b[39m []\n\u001b[0;32m---> 15\u001b[0m \u001b[38;5;28;43mself\u001b[39;49m\u001b[38;5;241;43m.\u001b[39;49m\u001b[43mgenerate_mesh\u001b[49m\u001b[43m(\u001b[49m\u001b[43m)\u001b[49m\n",
      "Input \u001b[0;32mIn [122]\u001b[0m, in \u001b[0;36mMesh.generate_mesh\u001b[0;34m(self)\u001b[0m\n\u001b[1;32m     29\u001b[0m bottom_bound \u001b[38;5;241m=\u001b[39m \u001b[38;5;28mself\u001b[39m\u001b[38;5;241m.\u001b[39my_min \u001b[38;5;241m+\u001b[39m j \u001b[38;5;241m*\u001b[39m dy\n\u001b[1;32m     30\u001b[0m top_bound \u001b[38;5;241m=\u001b[39m \u001b[38;5;28mself\u001b[39m\u001b[38;5;241m.\u001b[39my_min \u001b[38;5;241m+\u001b[39m (j\u001b[38;5;241m+\u001b[39m\u001b[38;5;241m1\u001b[39m) \u001b[38;5;241m*\u001b[39m dy\n\u001b[0;32m---> 32\u001b[0m element \u001b[38;5;241m=\u001b[39m \u001b[43mElement\u001b[49m\u001b[43m(\u001b[49m\u001b[43mindex\u001b[49m\u001b[43m,\u001b[49m\u001b[43m \u001b[49m\u001b[43mleft_bound\u001b[49m\u001b[43m,\u001b[49m\u001b[43m \u001b[49m\u001b[43mright_bound\u001b[49m\u001b[43m,\u001b[49m\u001b[43mtop_bound\u001b[49m\u001b[43m,\u001b[49m\u001b[43m \u001b[49m\u001b[43mbottom_bound\u001b[49m\u001b[43m,\u001b[49m\u001b[43m  \u001b[49m\u001b[38;5;28;43mself\u001b[39;49m\u001b[38;5;241;43m.\u001b[39;49m\u001b[43mlgl\u001b[49m\u001b[43m)\u001b[49m\n\u001b[1;32m     33\u001b[0m \u001b[38;5;28mself\u001b[39m\u001b[38;5;241m.\u001b[39melements\u001b[38;5;241m.\u001b[39mappend(element)\n\u001b[1;32m     34\u001b[0m index \u001b[38;5;241m+\u001b[39m\u001b[38;5;241m=\u001b[39m \u001b[38;5;241m1\u001b[39m\n",
      "\u001b[0;31mTypeError\u001b[0m: Element.__init__() missing 2 required positional arguments: 'bottom_bound' and 'lgl'"
     ]
    }
   ],
   "source": [
    "m = Mesh(x_min, x_max,  y_max,y_min , nex, ney,5)\n",
    "m.generate_mesh"
   ]
  }
 ],
 "metadata": {
  "kernelspec": {
   "display_name": "ode",
   "language": "python",
   "name": "python3"
  },
  "language_info": {
   "codemirror_mode": {
    "name": "ipython",
    "version": 3
   },
   "file_extension": ".py",
   "mimetype": "text/x-python",
   "name": "python",
   "nbconvert_exporter": "python",
   "pygments_lexer": "ipython3",
   "version": "3.10.4"
  }
 },
 "nbformat": 4,
 "nbformat_minor": 2
}
