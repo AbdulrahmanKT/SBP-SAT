{
 "cells": [
  {
   "cell_type": "code",
   "execution_count": 2,
   "metadata": {},
   "outputs": [],
   "source": [
    "import numpy as np \n",
    "import SBP as sb \n",
    "import matplotlib.pyplot as plt \n",
    "import sympy as sp # For symbolic operations \n"
   ]
  },
  {
   "cell_type": "markdown",
   "metadata": {},
   "source": [
    "The paper used in this homework is the paper titled \n",
    "\"\n",
    "Entropy stable h/p-nonconforming discretization with the\n",
    "summation-by-parts property for the compressible Euler and\n",
    "Navier–Stokes equations\n",
    "\""
   ]
  },
  {
   "cell_type": "markdown",
   "metadata": {
    "tags": []
   },
   "source": [
    "## Derivation of Equation (39) from Equation (38)\n",
    "\n",
    "### Step 1: Start from Equation (38)\n",
    "Equation (38) is given by:\n",
    "\n",
    "$$\n",
    "\\frac{du}{dt} + \\frac{1}{3} D_{x_1} \\text{diag}(u) u + \\frac{1}{3} \\text{diag}(u) D_{x_1} u = D_{x_1} \\Theta, \\quad \\Theta \\equiv D_{x_1} u.\n",
    "$$\n",
    "\n",
    "We want to derive the **energy estimate** by multiplying both sides by $ u^T P $, where $ P $ is the diagonal norm matrix in the Summation-By-Parts (SBP) framework.\n",
    "\n",
    "---\n",
    "\n",
    "### Step 2: Multiply by $ u^T P $\n",
    "Taking the inner product with $ u^T P $:\n",
    "\n",
    "$$\n",
    " u^T P \\frac{du}{dt} + \\frac{1}{3} u^T P D_{x_1} \\text{diag}(u) u + \\frac{1}{3} u^T P \\text{diag}(u) D_{x_1} u = u^T P D_{x_1} \\Theta.\n",
    "$$\n",
    "\n",
    "Using the quadratic form differentiation identity:\n",
    "\n",
    "$$\n",
    " u^T P \\frac{du}{dt} = \\frac{1}{2} \\frac{d}{dt} u^T P u.\n",
    "$$\n",
    "\n",
    "---\n",
    "\n",
    "### Step 3: SBP Property for $ D_{x_1} $\n",
    "We use the **SBP decomposition**:\n",
    "\n",
    "$$\n",
    " P D_{x_1} = S + \\frac{1}{2} E_{x_1},\n",
    "$$\n",
    "\n",
    "where:\n",
    "- $ S $ is skew-symmetric: $ S^T = -S $.\n",
    "- $ E_{x_1} $ is the boundary extraction matrix.\n",
    "\n",
    "Applying this to the **convective terms**:\n",
    "\n",
    "$$\n",
    " u^T P D_{x_1} \\text{diag}(u) u = u^T (S + \\frac{1}{2} E_{x_1}) \\text{diag}(u) u.\n",
    "$$\n",
    "\n",
    "Since $ S $ is skew-symmetric, we show:\n",
    "\n",
    "$$\n",
    " u^T S \\text{diag}(u) u = - (\\text{diag}(u) u)^T S u = 0.\n",
    "$$\n",
    "### Note: \n",
    "For a scalar quantity, the transpose operator is equivilant to multipying by one, which leads to a scalar equaling the negative of it self. \n",
    "$$a = -a$$\n",
    "This can only be satisfied by the zero element. Thus, the only surviving term is:\n",
    "\n",
    "$$\n",
    " \\frac{1}{3} u^T E_{x_1} \\text{diag}(u) u = \\frac{1}{3} (u^3(N) - u^3(1)).\n",
    "$$\n",
    "\n",
    "---\n",
    "\n",
    "### Step 4: Viscous Term Analysis\n",
    "For the viscous term:\n",
    "\n",
    "$$\n",
    " u^T P D_{x_1} D_{x_1} u.\n",
    "$$\n",
    "\n",
    "Using SBP:\n",
    "\n",
    "$$\n",
    " u^T P D_{x_1} D_{x_1} u = u^T S D_{x_1} u + \\frac{1}{2} u^T E_{x_1} D_{x_1} u.\n",
    "$$\n",
    "\n",
    "Since $ S $ is skew-symmetric, **this term vanishes**:\n",
    "\n",
    "$$\n",
    " u^T S D_{x_1} u = 0.\n",
    "$$\n",
    "\n",
    "Leaving us with:\n",
    "\n",
    "$$\n",
    " u^T P D_{x_1} D_{x_1} u = u^T E_{x_1} D_{x_1} u - u^T D_{x_1}^T P D_{x_1} u.\n",
    "$$\n",
    "\n",
    "---\n",
    "\n",
    "### Step 5: Final Energy Estimate\n",
    "Combining all terms, we obtain **Equation (39):**\n",
    "\n",
    "$$\n",
    "\\frac{1}{2} \\frac{d}{dt} u^T P u + \\frac{1}{3} (u^3(N) - u^3(1)) = u^T E_{x_1} D_{x_1} u - u^T D_{x_1}^T P D_{x_1} u.\n",
    "$$\n",
    "\n"
   ]
  },
  {
   "cell_type": "markdown",
   "metadata": {},
   "source": [
    "## Forming the 2-Point flux"
   ]
  },
  {
   "cell_type": "code",
   "execution_count": 55,
   "metadata": {},
   "outputs": [
    {
     "name": "stdout",
     "output_type": "stream",
     "text": [
      "The matrix D \n",
      " [[-1.5  2.  -0.5]\n",
      " [-0.5  0.   0.5]\n",
      " [ 0.5 -2.   1.5]]\n",
      "and the 2-point entropy flux function is \n",
      "\n"
     ]
    },
    {
     "data": {
      "text/latex": [
       "$\\displaystyle \\left[\\begin{matrix}\\frac{u_{1}^{2}}{2} & \\frac{u_{1}^{2}}{6} + \\frac{u_{1} u_{2}}{6} + \\frac{u_{2}^{2}}{6} & \\frac{u_{1}^{2}}{6} + \\frac{u_{1} u_{3}}{6} + \\frac{u_{3}^{2}}{6}\\\\\\frac{u_{1}^{2}}{6} + \\frac{u_{1} u_{2}}{6} + \\frac{u_{2}^{2}}{6} & \\frac{u_{2}^{2}}{2} & \\frac{u_{2}^{2}}{6} + \\frac{u_{2} u_{3}}{6} + \\frac{u_{3}^{2}}{6}\\\\\\frac{u_{1}^{2}}{6} + \\frac{u_{1} u_{3}}{6} + \\frac{u_{3}^{2}}{6} & \\frac{u_{2}^{2}}{6} + \\frac{u_{2} u_{3}}{6} + \\frac{u_{3}^{2}}{6} & \\frac{u_{3}^{2}}{2}\\end{matrix}\\right]$"
      ],
      "text/plain": [
       "Matrix([\n",
       "[                    u1**2/2, u1**2/6 + u1*u2/6 + u2**2/6, u1**2/6 + u1*u3/6 + u3**2/6],\n",
       "[u1**2/6 + u1*u2/6 + u2**2/6,                     u2**2/2, u2**2/6 + u2*u3/6 + u3**2/6],\n",
       "[u1**2/6 + u1*u3/6 + u3**2/6, u2**2/6 + u2*u3/6 + u3**2/6,                     u3**2/2]])"
      ]
     },
     "execution_count": 55,
     "metadata": {},
     "output_type": "execute_result"
    }
   ],
   "source": [
    "'''\n",
    "Forming the matricies and the 2-point flux function. \n",
    "Using the same values as the paper discussed. \n",
    "'''\n",
    "\n",
    "n = 2\n",
    "u = sp.symbols(f'u1:{n+2}')\n",
    "D = sb.dlagrange(n)\n",
    "print(\"The matrix D \\n\", D)\n",
    "\n",
    "F = sp.zeros(n+1,n+1)\n",
    "for j in range(n+1): \n",
    "    for i in range(n+1): \n",
    "        F[i,j] = sp.Rational(1,6)*(u[i]**2 + u[i]*u[j] + u[j]**2)\n",
    "print(\"and the 2-point entropy flux function is \\n\")\n",
    "sp.simplify(F)"
   ]
  },
  {
   "cell_type": "code",
   "execution_count": 65,
   "metadata": {},
   "outputs": [
    {
     "data": {
      "text/latex": [
       "$\\displaystyle \\left[\\begin{matrix}- \\frac{3 u_{1}^{2}}{4} & \\frac{u_{1}^{2}}{3} + \\frac{u_{1} u_{2}}{3} + \\frac{u_{2}^{2}}{3} & - \\frac{u_{1}^{2}}{12} - \\frac{u_{1} u_{3}}{12} - \\frac{u_{3}^{2}}{12}\\\\- \\frac{u_{1}^{2}}{12} - \\frac{u_{1} u_{2}}{12} - \\frac{u_{2}^{2}}{12} & 0 & \\frac{u_{2}^{2}}{12} + \\frac{u_{2} u_{3}}{12} + \\frac{u_{3}^{2}}{12}\\\\\\frac{u_{1}^{2}}{12} + \\frac{u_{1} u_{3}}{12} + \\frac{u_{3}^{2}}{12} & - \\frac{u_{2}^{2}}{3} - \\frac{u_{2} u_{3}}{3} - \\frac{u_{3}^{2}}{3} & \\frac{3 u_{3}^{2}}{4}\\end{matrix}\\right]$"
      ],
      "text/plain": [
       "[[-3*u1**2/4, u1**2/3 + u1*u2/3 + u2**2/3, -u1**2/12 - u1*u3/12 - u3**2/12], [-u1**2/12 - u1*u2/12 - u2**2/12, 0, u2**2/12 + u2*u3/12 + u3**2/12], [u1**2/12 + u1*u3/12 + u3**2/12, -u2**2/3 - u2*u3/3 - u3**2/3, 3*u3**2/4]]"
      ]
     },
     "execution_count": 65,
     "metadata": {},
     "output_type": "execute_result"
    }
   ],
   "source": [
    "sp.nsimplify(np.multiply(D,F))"
   ]
  }
 ],
 "metadata": {
  "kernelspec": {
   "display_name": "ode",
   "language": "python",
   "name": "python3"
  },
  "language_info": {
   "codemirror_mode": {
    "name": "ipython",
    "version": 3
   },
   "file_extension": ".py",
   "mimetype": "text/x-python",
   "name": "python",
   "nbconvert_exporter": "python",
   "pygments_lexer": "ipython3",
   "version": "3.10.4"
  }
 },
 "nbformat": 4,
 "nbformat_minor": 4
}
